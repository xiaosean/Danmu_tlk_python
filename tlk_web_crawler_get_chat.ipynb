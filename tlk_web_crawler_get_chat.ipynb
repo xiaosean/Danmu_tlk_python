{
 "cells": [
  {
   "cell_type": "code",
   "execution_count": 1,
   "metadata": {
    "collapsed": true
   },
   "outputs": [],
   "source": [
    "# https://tlk.io/ntustcc"
   ]
  },
  {
   "cell_type": "markdown",
   "metadata": {},
   "source": [
    "# 使用 Selenium 測試"
   ]
  },
  {
   "cell_type": "markdown",
   "metadata": {},
   "source": [
    "Doc:https://pypi.org/project/selenium/\n",
    "\n",
    "Web Driver Download(Chrome):https://sites.google.com/a/chromium.org/chromedriver/downloads"
   ]
  },
  {
   "cell_type": "code",
   "execution_count": 2,
   "metadata": {
    "collapsed": true
   },
   "outputs": [],
   "source": [
    "from selenium import webdriver\n",
    "from selenium.webdriver.common.keys import Keys"
   ]
  },
  {
   "cell_type": "code",
   "execution_count": 4,
   "metadata": {
    "collapsed": false
   },
   "outputs": [],
   "source": [
    "browser = webdriver.Chrome(\"./chromedriver\")\n",
    "\n",
    "browser.get('https://tlk.io/ntustcc')\n",
    "\n",
    "# browser.quit()"
   ]
  },
  {
   "cell_type": "code",
   "execution_count": 5,
   "metadata": {
    "collapsed": true
   },
   "outputs": [],
   "source": [
    "chatroom = browser.find_element_by_id(\"chat\")"
   ]
  },
  {
   "cell_type": "code",
   "execution_count": 6,
   "metadata": {
    "collapsed": false
   },
   "outputs": [
    {
     "data": {
      "text/plain": [
       "<selenium.webdriver.remote.webelement.WebElement (session=\"80a06056d96b2499c2ff85fbd0d54e5a\", element=\"0.9039403792798384-1\")>"
      ]
     },
     "execution_count": 6,
     "metadata": {},
     "output_type": "execute_result"
    }
   ],
   "source": [
    "chatroom"
   ]
  },
  {
   "cell_type": "code",
   "execution_count": 7,
   "metadata": {
    "collapsed": false
   },
   "outputs": [
    {
     "data": {
      "text/plain": [
       "'Zhen\\nZ\\n@\\nAnaconda\\n抱歉，剛剛按錯不小心全刪了XD\\n我來補個連結以示賠罪\\nanaconda download : https://www.anaconda.com\\nPaste of code ,貼扣給別人也不怕縮排跑掉 https://paste.ofcode.org\\nZhen\\nZ\\n@\\n簡報 https://docs.google.com/pre...\\n1 month ago\\nsho\\ns\\n@\\n我安裝anconda\\n的檔案位置一直錯誤\\n怎麼辦qq\\nCouple weeks ago\\nZhen\\nZ\\n@\\n給個LINE 或者來社課 我們來解決\\n2 weeks ago\\nTEST\\nT\\n@\\nDANMU\\n2 days ago\\ntest\\nt\\n@\\n123\\nsads\\ns\\n@\\n213'"
      ]
     },
     "execution_count": 7,
     "metadata": {},
     "output_type": "execute_result"
    }
   ],
   "source": [
    "chatroom.text"
   ]
  },
  {
   "cell_type": "code",
   "execution_count": 8,
   "metadata": {
    "collapsed": false
   },
   "outputs": [
    {
     "data": {
      "text/plain": [
       "[<selenium.webdriver.remote.webelement.WebElement (session=\"80a06056d96b2499c2ff85fbd0d54e5a\", element=\"0.9039403792798384-2\")>,\n",
       " <selenium.webdriver.remote.webelement.WebElement (session=\"80a06056d96b2499c2ff85fbd0d54e5a\", element=\"0.9039403792798384-3\")>,\n",
       " <selenium.webdriver.remote.webelement.WebElement (session=\"80a06056d96b2499c2ff85fbd0d54e5a\", element=\"0.9039403792798384-4\")>,\n",
       " <selenium.webdriver.remote.webelement.WebElement (session=\"80a06056d96b2499c2ff85fbd0d54e5a\", element=\"0.9039403792798384-5\")>,\n",
       " <selenium.webdriver.remote.webelement.WebElement (session=\"80a06056d96b2499c2ff85fbd0d54e5a\", element=\"0.9039403792798384-6\")>,\n",
       " <selenium.webdriver.remote.webelement.WebElement (session=\"80a06056d96b2499c2ff85fbd0d54e5a\", element=\"0.9039403792798384-7\")>,\n",
       " <selenium.webdriver.remote.webelement.WebElement (session=\"80a06056d96b2499c2ff85fbd0d54e5a\", element=\"0.9039403792798384-8\")>,\n",
       " <selenium.webdriver.remote.webelement.WebElement (session=\"80a06056d96b2499c2ff85fbd0d54e5a\", element=\"0.9039403792798384-9\")>,\n",
       " <selenium.webdriver.remote.webelement.WebElement (session=\"80a06056d96b2499c2ff85fbd0d54e5a\", element=\"0.9039403792798384-10\")>,\n",
       " <selenium.webdriver.remote.webelement.WebElement (session=\"80a06056d96b2499c2ff85fbd0d54e5a\", element=\"0.9039403792798384-11\")>,\n",
       " <selenium.webdriver.remote.webelement.WebElement (session=\"80a06056d96b2499c2ff85fbd0d54e5a\", element=\"0.9039403792798384-12\")>,\n",
       " <selenium.webdriver.remote.webelement.WebElement (session=\"80a06056d96b2499c2ff85fbd0d54e5a\", element=\"0.9039403792798384-13\")>,\n",
       " <selenium.webdriver.remote.webelement.WebElement (session=\"80a06056d96b2499c2ff85fbd0d54e5a\", element=\"0.9039403792798384-14\")>]"
      ]
     },
     "execution_count": 8,
     "metadata": {},
     "output_type": "execute_result"
    }
   ],
   "source": [
    "chatroom.find_elements_by_class_name(\"post-message\")"
   ]
  },
  {
   "cell_type": "code",
   "execution_count": 17,
   "metadata": {
    "collapsed": true
   },
   "outputs": [],
   "source": [
    "last_time_stamp = cur_time_stamp = 0"
   ]
  },
  {
   "cell_type": "code",
   "execution_count": 21,
   "metadata": {
    "collapsed": false
   },
   "outputs": [],
   "source": [
    "for chat in chatroom.find_elements_by_class_name(\"post-message\"):\n",
    "#     print(chat.text, chat.find_element_by_tag_name(\"data-timestamp\"))\n",
    "    cur_time_stamp = int(chat.get_attribute(\"data-timestamp\"))\n",
    "    chat_text = chat.text\n",
    "#     print(chat.text, )\n",
    "    if cur_time_stamp > last_time_stamp:\n",
    "        print(chat_text)\n",
    "        last_time_stamp = cur_time_stamp\n",
    "#     last_timestamp = "
   ]
  },
  {
   "cell_type": "code",
   "execution_count": null,
   "metadata": {
    "collapsed": true
   },
   "outputs": [],
   "source": [
    "inputs = driver.execute_script(\n",
    "    \"var labels = arguments[0], inputs = []; for (var i=0; i < labels.length; i++){\" +\n",
    "    \"inputs.push(document.getElementById(labels[i].getAttribute('for'))); } return inputs;\", labels)"
   ]
  },
  {
   "cell_type": "code",
   "execution_count": 43,
   "metadata": {
    "collapsed": true
   },
   "outputs": [],
   "source": [
    "browser.quit()"
   ]
  },
  {
   "cell_type": "code",
   "execution_count": null,
   "metadata": {
    "collapsed": true
   },
   "outputs": [],
   "source": []
  }
 ],
 "metadata": {
  "kernelspec": {
   "display_name": "Python 3",
   "language": "python",
   "name": "python3"
  },
  "language_info": {
   "codemirror_mode": {
    "name": "ipython",
    "version": 3
   },
   "file_extension": ".py",
   "mimetype": "text/x-python",
   "name": "python",
   "nbconvert_exporter": "python",
   "pygments_lexer": "ipython3",
   "version": "3.6.0"
  }
 },
 "nbformat": 4,
 "nbformat_minor": 2
}
