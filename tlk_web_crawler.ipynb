{
 "cells": [
  {
   "cell_type": "code",
   "execution_count": 24,
   "metadata": {
    "collapsed": true
   },
   "outputs": [],
   "source": [
    "# https://tlk.io/ntustcc"
   ]
  },
  {
   "cell_type": "markdown",
   "metadata": {},
   "source": [
    "# 使用 Requests 試試看 - failed \n",
    "看起來對話訊息是藏在 js 腳本內"
   ]
  },
  {
   "cell_type": "code",
   "execution_count": 25,
   "metadata": {
    "collapsed": true
   },
   "outputs": [],
   "source": [
    "import requests"
   ]
  },
  {
   "cell_type": "code",
   "execution_count": 26,
   "metadata": {
    "collapsed": true
   },
   "outputs": [],
   "source": [
    "session = requests.Session()"
   ]
  },
  {
   "cell_type": "code",
   "execution_count": 27,
   "metadata": {
    "collapsed": true
   },
   "outputs": [],
   "source": [
    "s = session.get(\"https://tlk.io/ntustcc\")"
   ]
  },
  {
   "cell_type": "code",
   "execution_count": 28,
   "metadata": {
    "collapsed": false
   },
   "outputs": [
    {
     "data": {
      "text/plain": [
       "'<!DOCTYPE html>\\n<html lang=\"en\" class=\"no-js\">\\n<head>\\n  <title>tlk.io / ntustcc</title>\\n  <meta name=\"description\" content=\"This is a simple web chat. It\\'s open to anyone and chat channels are owner-free.\">\\n  <meta name=\"author\" content=\"See tlk.io/humans.txt\">\\n  <meta charset=\"UTF-8\">\\n  <meta http-equiv=\"X-UA-Compatible\" content=\"IE=edge,chrome=1\">\\n\\n  <link rel=\"icon\" type=\"image/png\" href=\"/images/favicon.png\">\\n\\n  <link rel=\"apple-touch-icon-precomposed\" sizes=\"152x152\" href=\"/images/apple-touch-icon-152x152-precomposed.png\">\\n  <link rel=\"apple-touch-icon-precomposed\" sizes=\"144x144\" href=\"/images/apple-touch-icon-144x144-precomposed.png\">\\n  <link rel=\"apple-touch-icon-precomposed\" sizes=\"120x120\" href=\"/images/apple-touch-icon-120x120-precomposed.png\">\\n  <link rel=\"apple-touch-icon-precomposed\" sizes=\"114x114\" href=\"/images/apple-touch-icon-114x114-precomposed.png\">\\n  <link rel=\"apple-touch-icon-precomposed\" sizes=\"72x72\" href=\"/images/apple-touch-icon-72x72-precomposed.png\">\\n  <link rel=\"apple-touch-icon-precomposed\" href=\"/images/apple-touch-icon-precomposed.png\">\\n\\n  <meta name=\"apple-mobile-web-app-title\" content=\"tlk.io\">\\n  <meta name=\"apple-mobile-web-app-capable\" content=\"yes\">\\n  <meta name=\"apple-mobile-web-app-status-bar-style\" content=\"black\">\\n\\n  <!-- iPhone 5 support: https://gist.github.com/burin/3840737 -->\\n  <meta name=\"viewport\" id=\"vp\" content=\"initial-scale=1.0,user-scalable=no,maximum-scale=1,width=device-width,minimal-ui\">\\n  <meta name=\"viewport\" id=\"vp\" content=\"initial-scale=1.0,user-scalable=no,maximum-scale=1,minimal-ui\" media=\"(device-height: 568px)\">\\n  <link href=\"/images/startup-640x1096.png\" rel=\"apple-touch-startup-image\" media=\"(device-height: 568px)\">\\n  <link href=\"/images/startup-640x960.png\" rel=\"apple-touch-startup-image\" sizes=\"640x960\" media=\"(device-height: 480px)\">\\n\\n  <meta name=\"csrf-param\" content=\"authenticity_token\" />\\n<meta name=\"csrf-token\" content=\"xekaK/Guf4JwR6+4XjkWA5PwLrWYsBGbfOe5Vb7o7ifjyFCrBvN2avumo5E3I4EjRtx2+X1nhG13TF+w4M5FWA==\" />\\n\\n  <link rel=\"stylesheet\" media=\"screen\" href=\"//fonts.googleapis.com/css?family=Open+Sans:regular,bold|Terminal+Dosis:500\" />\\n\\n  <link rel=\"stylesheet\" media=\"screen\" href=\"/assets/application-f2f7287148b7a2935e4e2a3fb3e4d765.css\" />\\n  \\n\\n  <script>\\n    (function(i,s,o,g,r,a,m){i[\\'GoogleAnalyticsObject\\']=r;i[r]=i[r]||function(){\\n    (i[r].q=i[r].q||[]).push(arguments)},i[r].l=1*new Date();a=s.createElement(o),\\n    m=s.getElementsByTagName(o)[0];a.async=1;a.src=g;m.parentNode.insertBefore(a,m)\\n    })(window,document,\\'script\\',\\'//www.google-analytics.com/analytics.js\\',\\'ga\\');\\n\\n    ga(\\'create\\', \\'UA-11370103-4\\', \\'auto\\');\\n\\n    ga(\\'set\\', {\\n      \\'dimension3\\': \\'ntustcc\\',\\n      \\'dimension4\\': \\'moderated\\',\\n      \\'dimension5\\': \\'allow\\'\\n    });\\n  ga(\\'send\\', \\'pageview\\');\\n</script>\\n\\n\\n  <script src=\"/assets/modernizr-3.6.0.min-54519e624c9dea92acc9e1fe43877d1e.js\"></script>\\n\\n  <style id=\"ban-list\"></style>\\n</head>\\n<body>\\n  \\n\\n<header id=\"header\" class=\"header\">\\n  <div class=\"header-bar\">\\n      <a class=\"header-avatar\" href=\"https://tlk.io\">tlk.io</a>\\n    <span id=\"channel\" class=\"header-channel\">ntustcc</span>\\n    <span class=\"header-status\"></span>\\n  </div>\\n</header>\\n\\n<div id=\"chat\" class=\"chat\" dir=\"auto\">\\n  <section id=\"live\">\\n    <button id=\"load-button\" class=\"button button-load\">Load more</button>\\n  </section>\\n</div>\\n\\n<footer class=\"footer\"></footer>\\n\\n<aside class=\"aside hasZeroParticipants not-connected\">\\n\\n  <menu class=\"menu\">\\n    <button id=\"admin-button\" class=\"menu-item menu-item--admin button\" title=\"Admin\">\\n      <svg class=\"menu-item-icon\" viewBox=\"0 0 36 36\"><use xlink:href=\"#icon-channel\"></use></svg>\\n    </button>\\n    <button id=\"user-button\" class=\"menu-item menu-item--user button\">\\n      <svg class=\"menu-item-icon\" viewBox=\"0 0 36 36\"><use xlink:href=\"#icon-troll\"></use></svg>\\n    </button>\\n  </menu>\\n\\n  <div class=\"settingsWrapper\">\\n\\n    <div id=\"admin-settings\" class=\"settings settings--admin tooltip\"></div>\\n\\n    <div id=\"user-settings\" class=\"settings settings--user tooltip\">\\n      <div id=\"owned-channel-list\" class=\"tooltip-item\">\\n        <h3 class=\"settings-title\">Your channels:</h3>\\n        <ul class=\"settings-list\"></ul>\\n      </div>\\n      <div class=\"tooltip-item\">\\n        <ul class=\"settings-list\">\\n          <li class=\"settings-list-item\">\\n            <label class=\"settings-label\">Notifications</label>\\n            <button id=\"notifications\" class=\"settings-toggle toggle\" title=\"Notifications\"></button>\\n          </li>\\n          <li class=\"settings-list-item\">\\n            <label class=\"settings-label\">Sounds</label>\\n            <button id=\"mute_button\" class=\"settings-toggle toggle\" title=\"Sound\"></button>\\n          </li>\\n        </ul>\\n      </div>\\n      <div class=\"tooltip-item\">\\n        <ul id=\"theme-picker\" class=\"theme-picker\">\\n          <li data-theme=\"theme--day\" class=\"theme-picker-item\"></li>\\n          <li data-theme=\"theme--pop\" class=\"theme-picker-item\"></li>\\n          <li data-theme=\"theme--minimal\" class=\"theme-picker-item\"></li>\\n          <li data-theme=\"theme--night\" class=\"theme-picker-item\"></li>\\n        </ul>\\n      </div>\\n      <div class=\"tooltip-item\">\\n        <button id=\"sign-out\" class=\"settings-button button\">Sign out</button>\\n      </div>\\n    </div>\\n\\n  </div>\\n\\n  <div class=\"participants\">\\n    <ul id=\"online-participants\" class=\"list list--participant\"></ul>\\n  </div>\\n\\n  <div class=\"counter\">\\n    <span id=\"user-counter\" class=\"counter-nr\">0</span> online\\n    <button id=\"share_button\" class=\"counter-button button\" title=\"Invite\">+</button>\\n  </div>\\n\\n  <div class=\"info\">\\n    <p><a href=\"http://tlk.io\" target=\"_blank\">A chat by tlk.io</a></p>\\n    <p><a href=\"https://www.patreon.com/tlkio\" target=\"_blank\">Help improve this chat. <br> Become a Patron!</a></p>\\n  </div>\\n\\n</aside>\\n\\n<nav class=\"nav\">\\n  <button id=\"panel-button\" class=\"nav-button\">\\n    <svg class=\"nav-button-slider\" viewBox=\"0 0 100 50\"><use xlink:href=\"#icon-nav\"></use></svg>\\n  </button>\\n  <div id=\"panel-counter\" class=\"nav-counter\">0</div>\\n</nav>\\n\\n<button id=\"scroll_down\" class=\"scrollButton\">\\n  <svg class=\"scrollButton-icon\" viewBox=\"0 0 36 36\"><use xlink:href=\"#icon-arrow-down\"></use></svg>\\n</button>\\n\\n\\n\\n<!-- Icons --------------------------------------------- -->\\n\\n<svg style=\"display:none;\">\\n\\n  <path id=\"icon-troll\" transform=\"translate(10, 9)\"\\n    d=\"M5.84818444,9.23596328 C5.92733701,10.0946459 5.85949905,11.1958603 5.16334661,11.8372093 C4.01593625,13 1.14741036,14.0465116 1.14741036,14.0465116 C1.14741036,14.0465116 0,14.627907 0,16.0232558 L0,18 L15.949004,18 C15.949004,18 16.063745,17.1860465 15.949004,16.0232558 C15.7195219,14.9767442 15.7195219,14.627907 15.1458167,14.0465116 C14.4573705,13.3488372 12.1625498,13.1162791 10.9003984,11.8372093 C10.2374346,11.0981738 10.1873584,9.93212999 10.2632532,9.07924304 C11.3044085,8.16686717 12,6.66022262 12,4.94382022 C12,1.23595506 10.1369863,0 7.94520548,0 C5.75342466,0 4,1.23595506 4,4.94382022 C4,6.76252133 4.73503796,8.34571607 5.84818444,9.23596328 Z\"></path>\\n\\n  <path id=\"icon-channel\" transform=\"translate(10, 11)\"\\n    d=\"M3.99620271,0 C1.78916089,0 0,1.79652125 0,3.99582624 L0,8.00417376 C0,10.2110077 1.78883037,12 3.99620271,12 L12.0037973,12 C14.2108391,12 16,10.2034788 16,8.00417376 L16,3.99582624 C16,1.78899235 14.2111696,0 12.0037973,0 L3.99620271,0 Z M4,12 L4,16 L8,12 L4,12 Z\"></path>\\n\\n  <path id=\"icon-banner-off\" transform=\"translate(10, 10)\" fill-rule=\"evenodd\"\\n    d=\"M1.99406028,3 C0.892771196,3 0,3.88743329 0,4.99961498 L0,11.000385 C0,12.1047419 0.894513756,13 1.99406028,13 L14.0059397,13 C15.1072288,13 16,12.1125667 16,11.000385 L16,4.99961498 C16,3.89525812 15.1054862,3 14.0059397,3 L1.99406028,3 Z M3.00247329,5 C2.44882258,5 2,5.45097518 2,5.99077797 L2,10.009222 C2,10.5564136 2.45576096,11 3.00247329,11 L12.9975267,11 C13.5511774,11 14,10.5490248 14,10.009222 L14,5.99077797 C14,5.44358641 13.544239,5 12.9975267,5 L3.00247329,5 Z\"></path>\\n\\n  <path id=\"icon-banner-on\" transform=\"translate(10, 14)\" fill-rule=\"evenodd\"\\n    d=\"M1.99406028,0 C0.892771196,0 0,0.88743329 0,1.99961498 L0,8.00038502 C0,9.10474188 0.894513756,10 1.99406028,10 L14.0059397,10 C15.1072288,10 16,9.11256671 16,8.00038502 L16,1.99961498 C16,0.895258123 15.1054862,0 14.0059397,0 L1.99406028,0 Z M4,7 C5.10456955,7 6,6.10456955 6,5 C6,3.89543045 5.10456955,3 4,3 C2.89543045,3 2,3.89543045 2,5 C2,6.10456955 2.89543045,7 4,7 Z M8,2 L8,4 L14,4 L14,2 L8,2 Z M8,6 L8,8 L14,8 L14,6 L8,6 Z\"></path>\\n\\n  <path id=\"icon-audio-off\" transform=\"translate(14, 12)\"\\n    d=\"M0,4 L3,4 L7,0 L7,12 L3,8 L0,8 L0,4\"></path>\\n\\n  <path id=\"icon-audio-on\" transform=\"translate(11, 12)\"\\n    d=\"M0,4 L3,4 L7,0 L7,12 L3,8 L0,8 L0,4 M12,1 L12,11 L13,11 L13,1 L12,1 M10,3 L10,9 L11,9 L11,3 L10,3\"></path>\\n\\n  <path id=\"icon-plus\" transform=\"translate(11, 11)\"\\n    d=\"M6,8 L1,8 L1,6 L6,6 L6,1 L8,1 L8,6 L13,6 L13,8 L8,8 L8,13 L6,13 L6,8 Z\"></path>\\n\\n  <path id=\"icon-arrow-down\" transform=\"translate(8, 7)\"\\n    d=\"M7,12 L7,0 L13,0 L13,12 L20,12 L10,22 L0,12 L7,12 Z\"></path>\\n\\n  <path id=\"icon-twitter\" transform=\"translate(3, 6)\"\\n    d=\"M25,5.89399206 C24.2642,6.21530132 23.4733,6.43236226 22.6434,6.53001507 C23.4905,6.03013505 24.1412,5.23857631 24.4475,4.29532101 C23.6546,4.75828591 22.7765,5.09436121 21.8418,5.27549143 C21.0934,4.49042975 20.027,4 18.8468,4 C16.5808,4 14.7435,5.80844741 14.7435,8.03910542 C14.7435,8.35568954 14.7798,8.66400468 14.8497,8.959621 C11.4395,8.79118959 8.4161,7.18306826 6.3923,4.73928692 C6.0391,5.33583536 5.8367,6.02964285 5.8367,6.76991417 C5.8367,8.17131079 6.5611,9.40762297 7.6621,10.131947 C6.9895,10.1109792 6.3568,9.92925831 5.8036,9.62675116 C5.8032,9.64358446 5.8032,9.6605162 5.8032,9.67754637 C5.8032,11.6345403 7.2176,13.2670748 9.0947,13.6381949 C8.7504,13.7305319 8.3879,13.7798505 8.0137,13.7798505 C7.7493,13.7798505 7.4923,13.7544529 7.2417,13.7073984 C7.7639,15.3120743 9.2792,16.4799705 11.0748,16.5124558 C9.6705,17.5957917 7.9013,18.2416587 5.9788,18.2416587 C5.6476,18.2416587 5.321,18.2224629 5,18.185154 C6.8159,19.3312948 8.9727,20 11.2899,20 C18.8372,20 22.9645,13.8451164 22.9645,8.5073861 C22.9645,8.33226074 22.9605,8.15811979 22.9526,7.98476636 C23.7543,7.41538746 24.4499,6.70405759 25,5.89399206 L25,5.89399206 Z\"></path>\\n\\n  <path id=\"icon-fb\" fill-rule=\"evenodd\"\\n    d=\"M34.013216,36.0002794 C35.1103264,36.0002794 36,35.1106058 36,34.013216 L36,1.98692364 C36,0.88939418 35.1104661,0 34.013216,0 L1.98692364,0 C0.88939418,0 0,0.88939418 0,1.98692364 L0,34.013216 C0,35.1104661 0.889254492,36.0002794 1.98692364,36.0002794 L34.013216,36.0002794 Z M24.839479,36.0002794 L24.839479,22.0589872 L29.5188909,22.0589872 L30.2195664,16.6258182 L24.839479,16.6258182 L24.839479,13.1570832 C24.839479,11.5840554 25.2762837,10.5120888 27.5319672,10.5120888 L30.4089835,10.5108316 L30.4089835,5.65136177 C29.9114145,5.5851496 28.2035877,5.4372199 26.216664,5.4372199 C22.0686257,5.4372199 19.2287664,7.96920653 19.2287664,12.6190046 L19.2287664,16.6258182 L14.5373413,16.6258182 L14.5373413,22.0589872 L19.2287664,22.0589872 L19.2287664,36.0002794 L24.839479,36.0002794 Z\"></path>\\n\\n  <!-- Wait till Chrome fixes <g> with <use> bug https://code.google.com/p/chromium/issues/detail?id=349175\\n  <g id=\"icon-nav\" fill-rule=\"evenodd\">\\n    <path id=\"icon-hamburger\" d=\"M17.9950893,16 C16.8932319,16 16,16.8877296 16,18 L16,18 C16,19.1045695 16.8926228,20 17.9950893,20 L32.0049107,20 C33.1067681,20 34,19.1122704 34,18 L34,18 C34,16.8954305 33.1073772,16 32.0049107,16 L17.9950893,16 Z M17.9950893,23 C16.8932319,23 16,23.8877296 16,25 L16,25 C16,26.1045695 16.8926228,27 17.9950893,27 L32.0049107,27 C33.1067681,27 34,26.1122704 34,25 L34,25 C34,23.8954305 33.1073772,23 32.0049107,23 L17.9950893,23 Z M17.9950893,30 C16.8932319,30 16,30.8877296 16,32 L16,32 C16,33.1045695 16.8926228,34 17.9950893,34 L32.0049107,34 C33.1067681,34 34,33.1122704 34,32 L34,32 C34,30.8954305 33.1073772,30 32.0049107,30 L17.9950893,30 Z\"></path>\\n    <path id=\"icon-close\" d=\"M66.5147186,33.4852814 C65.7282247,32.6987875 65.735236,31.4363368 66.5182164,30.6533565 L72.1715729,25 L66.5182164,19.3466435 C65.7347984,18.5632255 65.73367,17.2957672 66.5147186,16.5147186 C67.3012125,15.7282247 68.5636632,15.735236 69.3466435,16.5182164 L75,22.1715729 L80.6533565,16.5182164 C81.4367745,15.7347984 82.7042328,15.73367 83.4852814,16.5147186 C84.2717753,17.3012125 84.264764,18.5636632 83.4817836,19.3466435 L77.8284271,25 L83.4817836,30.6533565 C84.2652016,31.4367745 84.26633,32.7042328 83.4852814,33.4852814 C82.6987875,34.2717753 81.4363368,34.264764 80.6533565,33.4817836 L75,27.8284271 L69.3466435,33.4817836 C68.5632255,34.2652016 67.2957672,34.26633 66.5147186,33.4852814 C66.5147186,33.4852814 67.2957672,34.26633 66.5147186,33.4852814 L66.5147186,33.4852814 L66.5147186,33.4852814 Z\"></path>\\n  </g>\\n  -->\\n\\n  <path id=\"icon-nav\" fill-rule=\"evenodd\" d=\"M17.9950893,16 C16.8932319,16 16,16.8877296 16,18 L16,18 C16,19.1045695 16.8926228,20 17.9950893,20 L32.0049107,20 C33.1067681,20 34,19.1122704 34,18 L34,18 C34,16.8954305 33.1073772,16 32.0049107,16 L17.9950893,16 Z M17.9950893,23 C16.8932319,23 16,23.8877296 16,25 L16,25 C16,26.1045695 16.8926228,27 17.9950893,27 L32.0049107,27 C33.1067681,27 34,26.1122704 34,25 L34,25 C34,23.8954305 33.1073772,23 32.0049107,23 L17.9950893,23 Z M17.9950893,30 C16.8932319,30 16,30.8877296 16,32 L16,32 C16,33.1045695 16.8926228,34 17.9950893,34 L32.0049107,34 C33.1067681,34 34,33.1122704 34,32 L34,32 C34,30.8954305 33.1073772,30 32.0049107,30 L17.9950893,30 Z M66.5147186,33.4852814 C65.7282247,32.6987875 65.735236,31.4363368 66.5182164,30.6533565 L72.1715729,25 L66.5182164,19.3466435 C65.7347984,18.5632255 65.73367,17.2957672 66.5147186,16.5147186 C67.3012125,15.7282247 68.5636632,15.735236 69.3466435,16.5182164 L75,22.1715729 L80.6533565,16.5182164 C81.4367745,15.7347984 82.7042328,15.73367 83.4852814,16.5147186 C84.2717753,17.3012125 84.264764,18.5636632 83.4817836,19.3466435 L77.8284271,25 L83.4817836,30.6533565 C84.2652016,31.4367745 84.26633,32.7042328 83.4852814,33.4852814 C82.6987875,34.2717753 81.4363368,34.264764 80.6533565,33.4817836 L75,27.8284271 L69.3466435,33.4817836 C68.5632255,34.2652016 67.2957672,34.26633 66.5147186,33.4852814 C66.5147186,33.4852814 67.2957672,34.26633 66.5147186,33.4852814 L66.5147186,33.4852814 L66.5147186,33.4852814 Z\"></path>\\n\\n</svg>\\n\\n<!-- Audio --------------------------------------------- -->\\n\\n<audio id=\"audio_new\">\\n  <source src=\"/audio/new.mp3?150712\" type=\"audio/mpeg\" />\\n  <source src=\"/audio/new.ogg?150712\" type=\"audio/ogg\" />\\n  <source src=\"/audio/new.wav?150712\" type=\"audio/wav\" />\\n</audio>\\n\\n\\n<!-- Scripts --------------------------------------------- -->\\n\\n\\n\\n  <script src=\"//d2wy8f7a9ursnm.cloudfront.net/v4/bugsnag.min.js\"></script>\\n\\n  <!-- Handlebar.js templates -->\\n  <script id=\"message-author-template\" type=\"text/x-handlebars-template\">\\n  <dt class=\"post-meta\" data-timestamp=\"{{timestamp}}\">\\n    {{#if user}}\\n      {{#with user}}\\n        <a class=\"post-name post-name--twitter\" href=\"{{profile_url}}\" target=\"_blank\">{{nickname}}</a>\\n        <div class=\"post-reply js-reply\" data-name=\"{{nickname}}\">\\n          <div class=\"post-avatar\" style=\"background-image: url({{avatar}});\"></div>\\n          <button class=\"post-reply-button\">@</button>\\n        </div>\\n      {{/with}}\\n    {{else}}\\n      <span class=\"post-name\">{{nickname}}</span>\\n      <div class=\"post-reply js-reply\" data-name=\"{{nickname}}\">\\n        <div class=\"post-avatar post-avatar--troll\">{{initials}}</div>\\n        <button class=\"post-reply-button\">@</button>\\n      </div>\\n    {{/if}}\\n  </dt>\\n</script>\\n\\n<script id=\"message-template\" type=\"text/x-handlebars-template\">\\n  {{{body}}}\\n  <div class=\"post-time\">\\n    <div class=\"post-time-dot\"></div>\\n    <div class=\"post-time-tag\">\\n      <span class=\"post-time-label js-post-time-tag\"></span>\\n      <button id=\"delete-message\" class=\"post-time-button\">Delete</button>\\n    </div>\\n  </div>\\n</script>\\n\\n<script id=\"share-template\" type=\"text/x-handlebars-template\">\\n  <div id=\"invite\" class=\"popup-box\">\\n    <div class=\"popup-header\">\\n      <h2 class=\"popup-header-title\">Invite to this chat!</h2>\\n      <button id=\"popup-close\" class=\"button popup-button--close\">✕</button>\\n    </div>\\n    <div class=\"popup-content\">\\n      <p>Invite on <a class=\"button popup-button\" href=\"https://twitter.com/share?text=Join%20me!%20I\\'m%20currently%20chatting%20on%3A&url=http%3A%2F%2Ftlk.io%2Fntustcc\" target=\"_blank\">Twitter</a></p>\\n      <p>Or share the link below anywhere you like.<br>\\n        <span class=\"popup-link\">http://tlk.io/ntustcc</span> <a href=\"#\" class=\"url_button button popup-button\">Copy</a></p>\\n    </div>\\n    <div class=\"popup-footer\">Remember, this is a public chat. Anybody with the link can read.</div>\\n  </div>\\n</script>\\n\\n<script id=\"join-chatroom-template\" type=\"text/x-handlebars-template\">\\n  <div class=\"footer-wrapper\">\\n    <button id=\"join-toggleButton\" class=\"button join-toggleButton\">Wanna join?</button>\\n    <div id=\"join\" class=\"join\">\\n      <span class=\"join-hl\">Wanna join?</span>\\n      {{#if options.allow_anonymous}}\\n        <form action=\"/something/participant\" id=\"participant-form\" class=\"join-form\" method=\"post\">\\n          <input id=\"participant_nickname\" class=\"input-text join-input--troll\" name=\"participant[nickname]\" placeholder=\"Name\" size=\"30\" spellcheck=\"false\" type=\"text\">\\n        </form>\\n        <span class=\"join-or\">or</span>\\n      {{/if}}\\n      <button id=\"twitter-button\" class=\"button join-button\">\\n        <svg class=\"join-button-icon\" viewBox=\"0 0 36 36\"><use xlink:href=\"#icon-twitter\"></use></svg>\\n        Twitter\\n      </button>\\n      <button id=\"fb-button\" class=\"button join-button join-button\">\\n        <svg class=\"join-button-icon join-button-icon--fb\" viewBox=\"0 0 36 36\"><use xlink:href=\"#icon-fb\"></use></svg>\\n        Facebook\\n      </button>\\n      <p class=\"join-hint\">By using Twitter or Facebook we\\'ll just use your name and avatar. We won\\'t tweet or post anything.</p>\\n    </div>\\n  </div>\\n</script>\\n\\n<script id=\"message-form-template\" type=\"text/x-handlebars-template\">\\n  <div class=\"footer-wrapper\">\\n    <form action=\"/\" id=\"new_message\" class=\"message\" method=\"post\">\\n      <textarea id=\"message_body\" class=\"message-input\" name=\"message[body]\" autocomplete=\"off\" tabindex=\"1\" cols=\"40\" placeholder=\"be nice...\" rows=\"1\"></textarea>\\n      {{#if twitter}}\\n        <div id=\"footer-avatar\" class=\"message-avatar\" style=\"background-image: url({{avatar}});\"></div>\\n      {{/if}}\\n      <button id=\"submit-button\" class=\"button message-button--submit\">Send</button>\\n    </form>\\n  </div>\\n</script>\\n\\n<script id=\"online-user-template\" type=\"text/x-handlebars-template\">\\n  {{#if avatar}}\\n    <span class=\"list-item-avatar\" style=\"background-image: url({{avatar}});\"></span>\\n  {{else}}\\n    <span class=\"list-item-avatar\"></span>\\n  {{/if}}\\n  <span class=\"list-item-name\">{{nickname}}</span>\\n</script>\\n\\n<script id=\"owner-template\" type=\"text/x-handlebars-template\">\\n  <li class=\"settings-list-item\">\\n    <span class=\"list-item-avatar\" style=\"background-image: url({{avatar}});\"></span>\\n    <a class=\"list-item-name\" href=\"http://twitter.com/{{nickname}}\" target=\"_blank\">@{{nickname}}</a>\\n  </li>\\n</script>\\n\\n<script id=\"owned-channel-template\" type=\"text/x-handlebars-template\">\\n  <li class=\"settings-list-item\">\\n    <a href=\"/{{permalink}}\">#{{permalink}}</a>\\n  </li>\\n</script>\\n\\n<script id=\"admin-settings-template\" type=\"text/x-handlebars-template\">\\n  <div class=\"tooltip-item owner\">\\n    <h3 id=\"owner-intro\" class=\"settings-title\">\\n      {{#if has_owner}}\\n        This chat is moderated by:\\n      {{else}}\\n        This chat has no moderator yet.\\n      {{/if}}\\n    </h3>\\n    <ul id=\"owners-list\" class=\"settings-list list\"></ul>\\n    <div id=\"ownership-status\" class=\"owner-status\">\\n      {{#if is_owner}}\\n        <div class=\"owner-confirm isHidden\">\\n          <p class=\"owner-confirm-message\"><strong>Warning</strong>: By resigning as moderator this channel will <strong>loose all it&apos;s content</strong> and become available to the public. Please confirm by entering the name of this channel. Hint: It might be <strong>{{permalink}}</strong> :-)</p>\\n          <input id=\"channel-confirmation\" class=\"settings-input-text input-text\" placeholder=\"channel\">\\n        </div>\\n        <button id=\"resign-ownership\" class=\"settings-button button button--danger\">Resign as moderator</button>\\n      {{else}}\\n        {{#if is_hero}}\\n          <button id=\"become-owner\" class=\"settings-button button\">Become moderator</button>\\n        {{else}}\\n          <p>Please log in with Twitter to moderate your own chat room.</p>\\n        {{/if}}\\n      {{/if}}\\n    </div>\\n  </div>\\n\\n  {{#if is_owner}}\\n    <div class=\"tooltip-item\">\\n      <ul class=\"settings-list\">\\n        <li class=\"settings-list-item\">\\n          <label class=\"settings-label\">Allow anonymous</label>\\n          <button id=\"allow-anonymous\" class=\"settings-toggle toggle\" title=\"Allow Anonymous\"></button>\\n        </li>\\n      </ul>\\n    </div>\\n  {{/if}}\\n\\n  <div class=\"tooltip-item\">\\n    {{#if is_logged_in}}\\n      <button id=\"remove-my-messages\" class=\"settings-button button button--warning\">Delete my messages</button>\\n    {{/if}}\\n\\n    {{#if is_owner}}\\n      <button id=\"remove-all-messages\" class=\"settings-button button button--warning\">Delete all messages</button>\\n    {{/if}}\\n  </div>\\n</script>\\n\\n\\n  <!-- JS -->\\n  <script src=\"//ajax.googleapis.com/ajax/libs/jquery/1.12.4/jquery.min.js\"></script>\\n<script>!window.jQuery && document.write(\"<script src=\\\\\"/javascripts/jquery-1.12.4.js\\\\\"><\\\\/script>\")</script>\\n\\n\\n    <script src=\"/assets/application-e85dd3dd23dcfe25c9d732c2554da144.js\"></script>\\n\\n  <script type=\"text/javascript\">\\n    Talkio.Variables.faye_server = \\'//ws.tlk.io\\';\\n    Talkio.Variables.message_view_limit = 50;\\n    Talkio.Variables.session_token = \\'44596a2a40a967557112\\';\\n    Talkio.Variables.chat_id = \\'8258643\\';\\n    Talkio.Variables.permalink = \\'ntustcc\\';\\n    Talkio.Variables.theme = \\'\\';\\n    Talkio.Variables.timestamps = {\\n        31557600: \\'Long long time ago\\',\\n        7776000: \\'Couple months ago\\',\\n        5184000: \\'2 months ago\\',\\n        2592000: \\'1 month ago\\',\\n        1814400: \\'Couple weeks ago\\',\\n        1209600: \\'2 weeks ago\\',\\n        604800: \\'1 week ago\\',\\n        259200: \\'Couple days ago\\',\\n        172800: \\'2 days ago\\',\\n        86400: \\'Yesterday\\',\\n        43200: \\'Half a day ago\\',\\n        10800: \\'Couple hours ago\\',\\n        7200: \\'2 hours ago\\',\\n        3600: \\'An hour ago\\',\\n    };\\n\\n    Talkio.Paths = {\\n      chat: \\'/api/chats/8258643\\',\\n      sign_out: \\'/sign_out\\',\\n      participant: \\'/api/participant\\',\\n      ownership: \\'/api/chats/8258643/ownership\\',\\n      messages: \\'/api/chats/8258643/messages\\'\\n    };\\n\\n    $(function() {\\n      Talkio.Variables.users = new Talkio.Collections.Users();\\n      Talkio.Variables.owned_channels = new Talkio.Collections.Channels([]);\\n      Talkio.Variables.owners = new Talkio.Collections.Owners([{\"token\":\"c7e7ad\",\"nickname\":\"張宜楨\",\"provider\":\"facebook\",\"avatar\":\"https://graph.facebook.com/v2.6/2278676875510706/picture\",\"profile_url\":\"https://www.facebook.com/2278676875510706\"}]);\\n      Talkio.Variables.channel_settings = new Talkio.Models.ChannelSettings({\"id\":8258643,\"history_ttl\":null,\"allow_anonymous\":true});\\n      Talkio.Variables.current_user = new Talkio.Models.CurrentUser(null);\\n\\n\\n      Talkio.Variables.chat_room = new Talkio.Views.ChatRoom({ collection: Talkio.Variables.users });\\n    });\\n  </script>\\n\\n</body>\\n</html>\\n'"
      ]
     },
     "execution_count": 28,
     "metadata": {},
     "output_type": "execute_result"
    }
   ],
   "source": [
    "s.text"
   ]
  },
  {
   "cell_type": "markdown",
   "metadata": {},
   "source": [
    "# 使用 Selenium 測試"
   ]
  },
  {
   "cell_type": "markdown",
   "metadata": {},
   "source": [
    "Doc:https://pypi.org/project/selenium/\n",
    "\n",
    "Web Driver Download(Chrome):https://sites.google.com/a/chromium.org/chromedriver/downloads"
   ]
  },
  {
   "cell_type": "code",
   "execution_count": null,
   "metadata": {
    "collapsed": true
   },
   "outputs": [],
   "source": []
  },
  {
   "cell_type": "code",
   "execution_count": 7,
   "metadata": {
    "collapsed": false
   },
   "outputs": [
    {
     "name": "stdout",
     "output_type": "stream",
     "text": [
      "Requirement already satisfied: selenium in /Users/Xiao/anaconda3/lib/python3.6/site-packages (3.5.0)\n",
      "\u001b[33mYou are using pip version 18.1, however version 19.0.3 is available.\n",
      "You should consider upgrading via the 'pip install --upgrade pip' command.\u001b[0m\n"
     ]
    }
   ],
   "source": [
    "!pip install selenium"
   ]
  },
  {
   "cell_type": "code",
   "execution_count": 29,
   "metadata": {
    "collapsed": true
   },
   "outputs": [],
   "source": [
    "from selenium import webdriver\n",
    "from selenium.webdriver.common.keys import Keys"
   ]
  },
  {
   "cell_type": "code",
   "execution_count": 30,
   "metadata": {
    "collapsed": true
   },
   "outputs": [],
   "source": [
    "import os"
   ]
  },
  {
   "cell_type": "code",
   "execution_count": 31,
   "metadata": {
    "collapsed": false
   },
   "outputs": [
    {
     "name": "stdout",
     "output_type": "stream",
     "text": [
      "/Users/Xiao/Desktop/Danmu_python\n"
     ]
    }
   ],
   "source": [
    "cwd = os.getcwd()\n",
    "print(cwd)"
   ]
  },
  {
   "cell_type": "code",
   "execution_count": 32,
   "metadata": {
    "collapsed": false
   },
   "outputs": [
    {
     "data": {
      "text/plain": [
       "['tlk_web_crawler.ipynb', '.DS_Store', '.ipynb_checkpoints', 'chromedriver']"
      ]
     },
     "execution_count": 32,
     "metadata": {},
     "output_type": "execute_result"
    }
   ],
   "source": [
    "os.listdir(cwd)"
   ]
  },
  {
   "cell_type": "code",
   "execution_count": 33,
   "metadata": {
    "collapsed": false
   },
   "outputs": [],
   "source": [
    "browser = webdriver.Chrome(\"./chromedriver\")\n",
    "\n",
    "browser.get('https://tlk.io/ntustcc')\n",
    "# assert 'Yahoo' in browser.title\n",
    "\n",
    "# elem = browser.find_element_by_name('p')  # Find the search box\n",
    "# elem.send_keys('seleniumhq' + Keys.RETURN)\n",
    "\n",
    "# browser.quit()"
   ]
  },
  {
   "cell_type": "code",
   "execution_count": 36,
   "metadata": {
    "collapsed": true
   },
   "outputs": [],
   "source": [
    "browser.quit()"
   ]
  },
  {
   "cell_type": "markdown",
   "metadata": {},
   "source": [
    "# Using listener check live chat"
   ]
  },
  {
   "cell_type": "code",
   "execution_count": 34,
   "metadata": {
    "collapsed": true
   },
   "outputs": [],
   "source": [
    "from selenium.webdriver.support.events import EventFiringWebDriver, AbstractEventListener"
   ]
  },
  {
   "cell_type": "code",
   "execution_count": 35,
   "metadata": {
    "collapsed": true
   },
   "outputs": [],
   "source": [
    "??AbstractEventListener"
   ]
  },
  {
   "cell_type": "code",
   "execution_count": 39,
   "metadata": {
    "collapsed": true
   },
   "outputs": [],
   "source": [
    "class MyListener(AbstractEventListener):\n",
    "    def after_change_value_of(self, element, driver):\n",
    "        print(element)\n"
   ]
  },
  {
   "cell_type": "code",
   "execution_count": null,
   "metadata": {
    "collapsed": false
   },
   "outputs": [],
   "source": [
    "driver = webdriver.Chrome(executable_path=r'./chromedriver');\n",
    "edriver = EventFiringWebDriver(driver, MyListener())\n",
    "edriver.get('https://tlk.io/ntustcc')\n"
   ]
  },
  {
   "cell_type": "code",
   "execution_count": null,
   "metadata": {
    "collapsed": true
   },
   "outputs": [],
   "source": [
    "chatroom = driver.find_element_by_id(\"chat\").find_element_by_id"
   ]
  },
  {
   "cell_type": "code",
   "execution_count": 42,
   "metadata": {
    "collapsed": false
   },
   "outputs": [
    {
     "data": {
      "text/plain": [
       "'Z\\n@\\nAnaconda\\n抱歉，剛剛按錯不小心全刪了XD\\n我來補個連結以示賠罪\\nanaconda download : https://www.anaconda.com\\nPaste of code ,貼扣給別人也不怕縮排跑掉 https://paste.ofcode.org\\nZ\\n@\\n簡報 https://docs.google.com/pre...\\n1 month ago\\nsho\\ns\\n@\\n我安裝anconda\\n的檔案位置一直錯誤\\n怎麼辦qq\\nCouple weeks ago\\nZhen\\nZ\\n@\\n給個LINE 或者來社課 我們來解決\\n2 weeks ago\\nTEST\\nT\\n@\\nDANMU'"
      ]
     },
     "execution_count": 42,
     "metadata": {},
     "output_type": "execute_result"
    }
   ],
   "source": [
    "chatroom.text"
   ]
  },
  {
   "cell_type": "code",
   "execution_count": null,
   "metadata": {
    "collapsed": true
   },
   "outputs": [],
   "source": [
    "inputs = driver.execute_script(\n",
    "    \"var labels = arguments[0], inputs = []; for (var i=0; i < labels.length; i++){\" +\n",
    "    \"inputs.push(document.getElementById(labels[i].getAttribute('for'))); } return inputs;\", labels)"
   ]
  },
  {
   "cell_type": "code",
   "execution_count": 43,
   "metadata": {
    "collapsed": true
   },
   "outputs": [],
   "source": [
    "browser.quit()"
   ]
  },
  {
   "cell_type": "code",
   "execution_count": null,
   "metadata": {
    "collapsed": true
   },
   "outputs": [],
   "source": []
  }
 ],
 "metadata": {
  "kernelspec": {
   "display_name": "Python 3",
   "language": "python",
   "name": "python3"
  },
  "language_info": {
   "codemirror_mode": {
    "name": "ipython",
    "version": 3
   },
   "file_extension": ".py",
   "mimetype": "text/x-python",
   "name": "python",
   "nbconvert_exporter": "python",
   "pygments_lexer": "ipython3",
   "version": "3.6.0"
  }
 },
 "nbformat": 4,
 "nbformat_minor": 2
}
