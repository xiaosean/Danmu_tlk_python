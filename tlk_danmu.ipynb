{
 "cells": [
  {
   "cell_type": "markdown",
   "metadata": {},
   "source": [
    "# 主要使用 selenium 運作"
   ]
  },
  {
   "cell_type": "markdown",
   "metadata": {},
   "source": [
    "Doc:https://pypi.org/project/selenium/\n",
    "\n",
    "Web Driver Download(Chrome):https://sites.google.com/a/chromium.org/chromedriver/downloads"
   ]
  },
  {
   "cell_type": "code",
   "execution_count": 1,
   "metadata": {
    "collapsed": true
   },
   "outputs": [],
   "source": [
    "import time\n",
    "import random\n",
    "from functools import partial\n",
    "\n",
    "from selenium import webdriver\n",
    "from selenium.webdriver.common.keys import Keys"
   ]
  },
  {
   "cell_type": "code",
   "execution_count": 2,
   "metadata": {
    "collapsed": true
   },
   "outputs": [],
   "source": [
    "def register_danmu_to_driver(driver):\n",
    "    with open(\"./jquery.danmu.js/jquery-3.4.0.min.js\", 'r') as jquery_js: \n",
    "        # 3) Read the jquery from a file\n",
    "        js_text = jquery_js.read() \n",
    "        # 4) Load jquery lib\n",
    "        driver.execute_script(js_text)\n",
    "    \n",
    "    with open(\"./jquery.danmu.js/src/jquery.danmu.js\", 'r') as danmu_js: \n",
    "        # 3) Read the jquery from a file\n",
    "        js_text = danmu_js.read() \n",
    "        # 4) Load jquery lib\n",
    "        driver.execute_script(js_text)\n",
    "        \n",
    "# document.getElementById(\"browserLayerViewId\").appendChild(new_div);\n",
    "\n",
    "    ADD_DANMU_DIV=\"\"\"var new_div = document.createElement('div');\n",
    "    document.body.appendChild(new_div);\n",
    "    new_div.id = 'danmu';\n",
    "    \"\"\"\n",
    "    driver.execute_script(ADD_DANMU_DIV)\n",
    "    INIT = \"\"\"$(\"#danmu\").danmu({\n",
    "    height: \"100%\",  //弹幕区高度\n",
    "    width: \"100%\",   //弹幕区宽度\n",
    "    zindex :100,   //弹幕区域z-index属性\n",
    "    speed:7000,      //滚动弹幕的默认速度，这是数值值得是弹幕滚过每672像素所需要的时间（毫秒）\n",
    "    sumTime:65535,   //弹幕流的总时间\n",
    "    danmuLoop:false,   //是否循环播放弹幕\n",
    "    defaultFontColor:\"#FFFFFF\",   //弹幕的默认颜色\n",
    "    fontSizeSmall:40,     //小弹幕的字号大小\n",
    "    FontSizeBig:60,       //大弹幕的字号大小\n",
    "    opacity:\"0.9\",\t\t\t//默认弹幕透明度\n",
    "    topBottonDanmuTime:6000,   // 顶部底部弹幕持续时间（毫秒）\n",
    "    SubtitleProtection:false,     //是否字幕保护\n",
    "    positionOptimize:false,         //是否位置优化，位置优化是指像AB站那样弹幕主要漂浮于区域上半部分\n",
    "\n",
    "    maxCountInScreen: 40,   //屏幕上的最大的显示弹幕数目,弹幕数量过多时,优先加载最新的。\n",
    "    maxCountPerSec: 10      //每分秒钟最多的弹幕数目,弹幕数量过多时,优先加载最新的。\n",
    "    });\"\"\"\n",
    "    DANMU_START = \"$('#danmu').danmu('danmuStart');\"\n",
    "    driver.execute_script(INIT)\n",
    "    driver.execute_script(DANMU_START)\n",
    "    "
   ]
  },
  {
   "cell_type": "code",
   "execution_count": 12,
   "metadata": {
    "collapsed": false
   },
   "outputs": [],
   "source": [
    "def send_danmu_to_driver(driver, text):\n",
    "    if driver is None:\n",
    "        return\n",
    "    while True:\n",
    "        color = random.sample([\"white\", \"red\", \"green\", \"blue\", \"yellow\"], 1)[0]\n",
    "        size = random.randint(0, 1)\n",
    "# \n",
    "        s = \"\"\"$(\"#danmu\").danmu(\"addDanmu\", { text:\"%s\" ,color:\"%s\",size:%s,position:0,time:$('#danmu').data(\"nowTime\")+1})\"\"\"\\\n",
    "            % (text, color, size)\n",
    "#         print(\"color =\", color, \"s =\", s)\n",
    "        driver.execute_script(s)\n",
    "        yield"
   ]
  },
  {
   "cell_type": "markdown",
   "metadata": {},
   "source": [
    "# 不知道這樣蹭得到多少流量呢"
   ]
  },
  {
   "cell_type": "code",
   "execution_count": 20,
   "metadata": {
    "collapsed": true
   },
   "outputs": [],
   "source": [
    "present_url = \"https://xiaosean.github.io/\"\n",
    "# present_url = \"file:///Users/Xiao/Desktop/NTUSTCC108fall-python.pdf\""
   ]
  },
  {
   "cell_type": "code",
   "execution_count": 21,
   "metadata": {
    "collapsed": true
   },
   "outputs": [],
   "source": [
    "tlk_url = \"https://tlk.io/xiao\""
   ]
  },
  {
   "cell_type": "code",
   "execution_count": 22,
   "metadata": {
    "collapsed": false
   },
   "outputs": [],
   "source": [
    "present_driver = webdriver.Chrome(\"./chromedriver\")"
   ]
  },
  {
   "cell_type": "code",
   "execution_count": 23,
   "metadata": {
    "collapsed": true
   },
   "outputs": [],
   "source": [
    "present_driver.get(present_url)"
   ]
  },
  {
   "cell_type": "code",
   "execution_count": 24,
   "metadata": {
    "collapsed": false
   },
   "outputs": [],
   "source": [
    "register_danmu_to_driver(present_driver)"
   ]
  },
  {
   "cell_type": "code",
   "execution_count": 25,
   "metadata": {
    "collapsed": true
   },
   "outputs": [],
   "source": [
    "send_danmu = partial(send_danmu_to_driver, present_driver)"
   ]
  },
  {
   "cell_type": "code",
   "execution_count": 28,
   "metadata": {
    "collapsed": false
   },
   "outputs": [],
   "source": [
    "next(send_danmu(\"有問題記得要踴躍發問\"))"
   ]
  },
  {
   "cell_type": "code",
   "execution_count": 30,
   "metadata": {
    "collapsed": false
   },
   "outputs": [],
   "source": [
    "# for demo\n",
    "lines = [\n",
    "    \"有問題記得要踴躍發問\",\n",
    "    \"一時興起來做這個\",\n",
    "    \"希望社團有人會來呢\",\n",
    "    \"教別人寫程式好難\",\n",
    "    \"做這個的時間出乎我意料的多\",\n",
    "    \"其實我應該去看論文的\",\n",
    "    \"還有好多坑。。。。\",\n",
    "    \"這份 Readme 應該要寫中文的\",\n",
    "    \"半夜不睡覺都在做這些有的沒的事\",\n",
    "    \"希望這東西不要我上過一次課就丟了。。。\",\n",
    "    \"找不到暑期實習的男子。。。\",\n",
    "    \"或許繼續寫一篇論文比較實在呢\"\n",
    "]\n",
    "for line in lines:\n",
    "    next(send_danmu(line))"
   ]
  },
  {
   "cell_type": "code",
   "execution_count": 17,
   "metadata": {
    "collapsed": false
   },
   "outputs": [],
   "source": [
    "browser = webdriver.Chrome(\"./chromedriver\")\n",
    "\n",
    "browser.get(tlk_url)\n",
    "last_time_stamp = cur_time_stamp = 0\n",
    "# browser.quit()"
   ]
  },
  {
   "cell_type": "code",
   "execution_count": 18,
   "metadata": {
    "collapsed": false
   },
   "outputs": [],
   "source": [
    "chatroom = browser.find_element_by_id(\"chat\")\n",
    "if chatroom:\n",
    "    chat = chatroom.find_elements_by_class_name(\"post-message\")\n",
    "    if chat:\n",
    "        last_time_stamp = int(chat[-1].get_attribute(\"data-timestamp\"))"
   ]
  },
  {
   "cell_type": "code",
   "execution_count": 19,
   "metadata": {
    "collapsed": false
   },
   "outputs": [
    {
     "ename": "KeyboardInterrupt",
     "evalue": "",
     "output_type": "error",
     "traceback": [
      "\u001b[0;31m---------------------------------------------------------------------------\u001b[0m",
      "\u001b[0;31mKeyboardInterrupt\u001b[0m                         Traceback (most recent call last)",
      "\u001b[0;32m<ipython-input-19-e97d2ee8a3d9>\u001b[0m in \u001b[0;36m<module>\u001b[0;34m()\u001b[0m\n\u001b[1;32m      5\u001b[0m             \u001b[0mnext\u001b[0m\u001b[0;34m(\u001b[0m\u001b[0msend_danmu\u001b[0m\u001b[0;34m(\u001b[0m\u001b[0mchat\u001b[0m\u001b[0;34m.\u001b[0m\u001b[0mtext\u001b[0m\u001b[0;34m)\u001b[0m\u001b[0;34m)\u001b[0m\u001b[0;34m\u001b[0m\u001b[0m\n\u001b[1;32m      6\u001b[0m             \u001b[0mlast_time_stamp\u001b[0m \u001b[0;34m=\u001b[0m \u001b[0mcur_time_stamp\u001b[0m\u001b[0;34m\u001b[0m\u001b[0m\n\u001b[0;32m----> 7\u001b[0;31m     \u001b[0mtime\u001b[0m\u001b[0;34m.\u001b[0m\u001b[0msleep\u001b[0m\u001b[0;34m(\u001b[0m\u001b[0;36m3\u001b[0m\u001b[0;34m)\u001b[0m\u001b[0;34m\u001b[0m\u001b[0m\n\u001b[0m",
      "\u001b[0;31mKeyboardInterrupt\u001b[0m: "
     ]
    }
   ],
   "source": [
    "while True:\n",
    "    for chat in chatroom.find_elements_by_class_name(\"post-message\"):\n",
    "        cur_time_stamp = int(chat.get_attribute(\"data-timestamp\"))\n",
    "        if cur_time_stamp > last_time_stamp:\n",
    "            next(send_danmu(chat.text))\n",
    "            last_time_stamp = cur_time_stamp\n",
    "    time.sleep(3)\n"
   ]
  },
  {
   "cell_type": "markdown",
   "metadata": {},
   "source": [
    "# 下方無視，跑到上面應該就會無限迴圈了，請到 tlk.io 的網址輸入文字，測試結果！"
   ]
  },
  {
   "cell_type": "markdown",
   "metadata": {},
   "source": [
    "# Start"
   ]
  },
  {
   "cell_type": "code",
   "execution_count": null,
   "metadata": {
    "collapsed": true
   },
   "outputs": [],
   "source": [
    "s = DANMU_START\n",
    "driver.execute_script(s)"
   ]
  },
  {
   "cell_type": "markdown",
   "metadata": {},
   "source": [
    "# Stop"
   ]
  },
  {
   "cell_type": "code",
   "execution_count": null,
   "metadata": {
    "collapsed": true
   },
   "outputs": [],
   "source": [
    "s = \"$('#danmu').danmu('danmuPause');\"\n",
    "driver.execute_script(s)"
   ]
  },
  {
   "cell_type": "markdown",
   "metadata": {},
   "source": [
    "# Hide all"
   ]
  },
  {
   "cell_type": "code",
   "execution_count": null,
   "metadata": {
    "collapsed": true
   },
   "outputs": [],
   "source": [
    "s = \"$('#danmu').danmu('hideAll');\"\n",
    "driver.execute_script(s)"
   ]
  },
  {
   "cell_type": "code",
   "execution_count": null,
   "metadata": {
    "collapsed": true
   },
   "outputs": [],
   "source": [
    "browser.quit()"
   ]
  },
  {
   "cell_type": "code",
   "execution_count": null,
   "metadata": {
    "collapsed": true
   },
   "outputs": [],
   "source": []
  }
 ],
 "metadata": {
  "kernelspec": {
   "display_name": "Python 3",
   "language": "python",
   "name": "python3"
  },
  "language_info": {
   "codemirror_mode": {
    "name": "ipython",
    "version": 3
   },
   "file_extension": ".py",
   "mimetype": "text/x-python",
   "name": "python",
   "nbconvert_exporter": "python",
   "pygments_lexer": "ipython3",
   "version": "3.6.0"
  }
 },
 "nbformat": 4,
 "nbformat_minor": 2
}
