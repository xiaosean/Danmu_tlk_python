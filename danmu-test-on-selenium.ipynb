{
 "cells": [
  {
   "cell_type": "code",
   "execution_count": 1,
   "metadata": {
    "collapsed": true
   },
   "outputs": [],
   "source": [
    "# https://tlk.io/ntustcc"
   ]
  },
  {
   "cell_type": "markdown",
   "metadata": {},
   "source": [
    "# 使用 Selenium 測試"
   ]
  },
  {
   "cell_type": "markdown",
   "metadata": {},
   "source": [
    "Doc:https://pypi.org/project/selenium/\n",
    "\n",
    "Web Driver Download(Chrome):https://sites.google.com/a/chromium.org/chromedriver/downloads"
   ]
  },
  {
   "cell_type": "code",
   "execution_count": 1,
   "metadata": {
    "collapsed": true
   },
   "outputs": [],
   "source": [
    "from selenium import webdriver\n",
    "from selenium.webdriver.common.keys import Keys"
   ]
  },
  {
   "cell_type": "code",
   "execution_count": 124,
   "metadata": {
    "collapsed": false
   },
   "outputs": [],
   "source": [
    "driver = webdriver.Chrome(\"./chromedriver\")\n",
    "\n",
    "driver.get('https://tlk.io/ntustcc')\n",
    "\n",
    "# elem = browser.find_element_by_name('p')  # Find the search box\n",
    "# elem.send_keys('seleniumhq' + Keys.RETURN)\n",
    "\n",
    "# browser.quit()\n"
   ]
  },
  {
   "cell_type": "code",
   "execution_count": 125,
   "metadata": {
    "collapsed": false
   },
   "outputs": [],
   "source": [
    "with open(\"./jquery.danmu.js/src/jquery.danmu.js\", 'r') as jquery_js: \n",
    "    # 3) Read the jquery from a file\n",
    "    js_text = jquery_js.read() \n",
    "    # 4) Load jquery lib\n",
    "    driver.execute_script(js_text)\n",
    "    "
   ]
  },
  {
   "cell_type": "code",
   "execution_count": 173,
   "metadata": {
    "collapsed": false
   },
   "outputs": [],
   "source": [
    "ADD_DANMU_DIV=\"\"\"var new_div = document.createElement('div');\n",
    "document.body.appendChild(new_div);\n",
    "new_div.id = 'danmu';\n",
    "\"\"\"\n",
    "driver.execute_script(ADD_DANMU_DIV)"
   ]
  },
  {
   "cell_type": "code",
   "execution_count": 174,
   "metadata": {
    "collapsed": true
   },
   "outputs": [],
   "source": [
    "INIT = \"\"\"$(\"#danmu\").danmu({\n",
    "height: \"100%\",  //弹幕区高度\n",
    "width: \"100%\",   //弹幕区宽度\n",
    "zindex :100,   //弹幕区域z-index属性\n",
    "speed:7000,      //滚动弹幕的默认速度，这是数值值得是弹幕滚过每672像素所需要的时间（毫秒）\n",
    "sumTime:65535,   //弹幕流的总时间\n",
    "danmuLoop:false,   //是否循环播放弹幕\n",
    "defaultFontColor:\"#FFFFFF\",   //弹幕的默认颜色\n",
    "fontSizeSmall:16,     //小弹幕的字号大小\n",
    "FontSizeBig:24,       //大弹幕的字号大小\n",
    "opacity:\"0.9\",\t\t\t//默认弹幕透明度\n",
    "topBottonDanmuTime:6000,   // 顶部底部弹幕持续时间（毫秒）\n",
    "SubtitleProtection:false,     //是否字幕保护\n",
    "positionOptimize:false,         //是否位置优化，位置优化是指像AB站那样弹幕主要漂浮于区域上半部分\n",
    "\n",
    "maxCountInScreen: 40,   //屏幕上的最大的显示弹幕数目,弹幕数量过多时,优先加载最新的。\n",
    "maxCountPerSec: 10      //每分秒钟最多的弹幕数目,弹幕数量过多时,优先加载最新的。\n",
    "});\"\"\""
   ]
  },
  {
   "cell_type": "code",
   "execution_count": 200,
   "metadata": {
    "collapsed": true
   },
   "outputs": [],
   "source": [
    "DANMU_START = \"$('#danmu').danmu('danmuStart');\""
   ]
  },
  {
   "cell_type": "code",
   "execution_count": 175,
   "metadata": {
    "collapsed": false
   },
   "outputs": [],
   "source": [
    "s = INIT\n",
    "driver.execute_script(s)"
   ]
  },
  {
   "cell_type": "code",
   "execution_count": 182,
   "metadata": {
    "collapsed": true
   },
   "outputs": [],
   "source": [
    "s = DANMU_START\n",
    "driver.execute_script(s)"
   ]
  },
  {
   "cell_type": "code",
   "execution_count": 199,
   "metadata": {
    "collapsed": false
   },
   "outputs": [],
   "source": [
    "# s = \"\"\"var aDanmu={ text:\"这是弹幕\" ,color:\"white\",size:1,position:1,time:$('#danmu').data(\"nowTime\")+1,isnew:1};\n",
    "# s = \"\"\"$(\"#danmu\").danmu(\"addDanmu\",[\n",
    "#    { text:\"这是滚动弹幕\" ,color:\"white\",size:1,position:0,time:$('#danmu').data(\"nowTime\")+1}\n",
    "#   ,{ text:\"这是顶部弹幕\" ,color:\"yellow\" ,size:1,position:1,time:$('#danmu').data(\"nowTime\")+1}\n",
    "#   ,{ text:\"这是底部弹幕\" , color:\"red\" ,size:1,position:2,time:$('#danmu').data(\"nowTime\")+1}\n",
    "# ])\"\"\"\n",
    "s = \"\"\"$(\"#danmu\").danmu(\"addDanmu\", { text:\"这是滚动弹幕\" ,color:\"white\",size:1,position:0,time:$('#danmu').data(\"nowTime\")+1})\"\"\"\n",
    "driver.execute_script(s)"
   ]
  },
  {
   "cell_type": "markdown",
   "metadata": {},
   "source": [
    "# Stop"
   ]
  },
  {
   "cell_type": "code",
   "execution_count": 166,
   "metadata": {
    "collapsed": true
   },
   "outputs": [],
   "source": [
    "s = \"$('#danmu').danmu('danmuPause');\"\n",
    "driver.execute_script(s)"
   ]
  },
  {
   "cell_type": "markdown",
   "metadata": {
    "collapsed": true
   },
   "source": [
    "# HideAll"
   ]
  },
  {
   "cell_type": "code",
   "execution_count": null,
   "metadata": {
    "collapsed": true
   },
   "outputs": [],
   "source": [
    "s = \"$('#danmu').danmu('hideAll');\"\n",
    "driver.execute_script(s)"
   ]
  }
 ],
 "metadata": {
  "kernelspec": {
   "display_name": "Python 3",
   "language": "python",
   "name": "python3"
  },
  "language_info": {
   "codemirror_mode": {
    "name": "ipython",
    "version": 3
   },
   "file_extension": ".py",
   "mimetype": "text/x-python",
   "name": "python",
   "nbconvert_exporter": "python",
   "pygments_lexer": "ipython3",
   "version": "3.6.0"
  }
 },
 "nbformat": 4,
 "nbformat_minor": 2
}
